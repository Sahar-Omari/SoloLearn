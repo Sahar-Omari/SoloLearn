{
  "nbformat": 4,
  "nbformat_minor": 0,
  "metadata": {
    "colab": {
      "name": "DataScienceCourse.ipynb",
      "provenance": []
    },
    "kernelspec": {
      "name": "python3",
      "display_name": "Python 3"
    },
    "language_info": {
      "name": "python"
    }
  },
  "cells": [
    {
      "cell_type": "markdown",
      "metadata": {
        "id": "n6RO61zifFn6"
      },
      "source": [
        "Task\n",
        "Given a list of numbers and the number of rows (r), reshape the list into a 2-dimensional array. Note that r divides the length of the list evenly.\n",
        "\n",
        "Input Format\n",
        "First line: an integer (r) indicating the number of rows of the 2-dimensional array\n",
        "Next line: numbers separated by the space\n",
        " \n",
        "Output Format\n",
        "An numpy 2d array of values rounded to the second decimal.\n",
        "\n",
        "Sample Input\n",
        "2\n",
        "1.2 0 0.5 -1\n",
        "\n",
        "Sample Output\n",
        "[[ 1.2  0. ]\n",
        " [ 0.5 -1. ]]"
      ]
    },
    {
      "cell_type": "code",
      "metadata": {
        "colab": {
          "base_uri": "https://localhost:8080/"
        },
        "id": "O-yjuJRSfmY4",
        "outputId": "c512f224-b4af-45b7-9232-e9eee38d8c63"
      },
      "source": [
        "import numpy as np\n",
        "r = int(input()) \n",
        "lst = [float(x) for x in input().split()]\n",
        "l=len(lst)\n",
        "arr = np.array(lst)\n",
        "reshaped=arr.reshape(r,l//r)\n",
        "print(reshaped)\n"
      ],
      "execution_count": 3,
      "outputs": [
        {
          "output_type": "stream",
          "name": "stdout",
          "text": [
            "2\n",
            "1 2 4 2.1\n",
            "[[1.  2. ]\n",
            " [4.  2.1]]\n"
          ]
        }
      ]
    },
    {
      "cell_type": "markdown",
      "metadata": {
        "id": "DC03SnBrfuiN"
      },
      "source": [
        "Average of Rows -Data Science\n",
        "\n",
        "In a matrix, or 2-d array X, the averages (or means) of the elements of rows is called row means.\n",
        "\n",
        "Task\n",
        "Given a 2D array, return the rowmeans.\n",
        "\n",
        "Input Format\n",
        "First line: two integers separated by spaces, the first indicates the rows of matrix X (n) and the second indicates the columns of X (p)\n",
        "Next n lines: values of the row in X\n",
        "\n",
        "Output Format\n",
        "An numpy 1d array of values rounded to the second decimal.\n",
        "\n",
        "2 2\n",
        "1.5 1\n",
        "2 2.9\n",
        "\n",
        "Sample Output\n",
        "[1.25 2.45]\n"
      ]
    },
    {
      "cell_type": "code",
      "metadata": {
        "colab": {
          "base_uri": "https://localhost:8080/"
        },
        "id": "Zu_xcTHtfLf6",
        "outputId": "a1d038b3-b0b9-4c0e-866b-258a2be5badf"
      },
      "source": [
        "import numpy as np\n",
        "n, p = [int(x) for x in input().split()]\n",
        "list_1 = []\n",
        "for i in range(n):\n",
        "    list_1.append(input().split())\n",
        "print(np.array(list_1).astype(np.float16).mean(axis=1).round(2))"
      ],
      "execution_count": 6,
      "outputs": [
        {
          "output_type": "stream",
          "name": "stdout",
          "text": [
            "2 2\n",
            "1.5 1\n",
            "2 2.9\n",
            "[1.25 2.45]\n"
          ]
        }
      ]
    }
  ]
}