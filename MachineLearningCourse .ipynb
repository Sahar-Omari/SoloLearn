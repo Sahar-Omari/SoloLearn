{
  "nbformat": 4,
  "nbformat_minor": 0,
  "metadata": {
    "colab": {
      "name": "MachineLearningCourse.ipynb",
      "provenance": [],
      "collapsed_sections": []
    },
    "kernelspec": {
      "name": "python3",
      "display_name": "Python 3"
    },
    "language_info": {
      "name": "python"
    }
  },
  "cells": [
    {
      "cell_type": "markdown",
      "metadata": {
        "id": "KA96li63aw7K"
      },
      "source": [
        ""
      ]
    },
    {
      "cell_type": "code",
      "metadata": {
        "colab": {
          "base_uri": "https://localhost:8080/"
        },
        "id": "QA-b-mIjbMZ2",
        "outputId": "619ffb0d-8942-4aec-90a8-1fbc57dfc002"
      },
      "source": [
        "!pip install fsspec"
      ],
      "execution_count": 5,
      "outputs": [
        {
          "output_type": "stream",
          "name": "stdout",
          "text": [
            "Collecting fsspec\n",
            "  Downloading fsspec-2021.11.0-py3-none-any.whl (132 kB)\n",
            "\u001b[?25l\r\u001b[K     |██▌                             | 10 kB 21.7 MB/s eta 0:00:01\r\u001b[K     |█████                           | 20 kB 26.5 MB/s eta 0:00:01\r\u001b[K     |███████▍                        | 30 kB 21.3 MB/s eta 0:00:01\r\u001b[K     |██████████                      | 40 kB 18.4 MB/s eta 0:00:01\r\u001b[K     |████████████▍                   | 51 kB 7.2 MB/s eta 0:00:01\r\u001b[K     |██████████████▉                 | 61 kB 8.4 MB/s eta 0:00:01\r\u001b[K     |█████████████████▎              | 71 kB 9.0 MB/s eta 0:00:01\r\u001b[K     |███████████████████▉            | 81 kB 10.1 MB/s eta 0:00:01\r\u001b[K     |██████████████████████▎         | 92 kB 10.5 MB/s eta 0:00:01\r\u001b[K     |████████████████████████▊       | 102 kB 8.1 MB/s eta 0:00:01\r\u001b[K     |███████████████████████████▏    | 112 kB 8.1 MB/s eta 0:00:01\r\u001b[K     |█████████████████████████████▊  | 122 kB 8.1 MB/s eta 0:00:01\r\u001b[K     |████████████████████████████████| 132 kB 8.1 MB/s \n",
            "\u001b[?25hInstalling collected packages: fsspec\n",
            "Successfully installed fsspec-2021.11.0\n"
          ]
        }
      ]
    },
    {
      "cell_type": "markdown",
      "metadata": {
        "id": "uJvgeJ1l8Zrt"
      },
      "source": [
        "Excercise 1 :  What's in a Column ?\n",
        "\n",
        "\n",
        "\n",
        "Getting a column from a numpy array.\n",
        "\n",
        "Task\n",
        "Given a csv file and a column name, print the elements in the given column.\n",
        "\n",
        "Input Format\n",
        "First line: filename of a csv file\n",
        "Second line: column name\n",
        "\n",
        "Output Format\n",
        "Numpy array\n",
        "\n",
        "Sample Input\n",
        "https://sololearn.com/uploads/files/one.csv\n",
        "a\n",
        "\n",
        "File one.csv contents:\n",
        "a,b\n",
        "1,3\n",
        "2,4\n",
        "\n",
        "Sample Output\n",
        "[1 2]\n"
      ]
    },
    {
      "cell_type": "code",
      "metadata": {
        "colab": {
          "base_uri": "https://localhost:8080/"
        },
        "id": "hYCa9FlW83B9",
        "outputId": "29734e0f-95fe-4500-b418-eda0b5d6db67"
      },
      "source": [
        "filename = input()\n",
        "column_name = input()\n",
        "import pandas as pd\n",
        "import numpy as np\n",
        "df=pd.read_csv(filename)\n",
        "print(df[column_name].values)"
      ],
      "execution_count": 6,
      "outputs": [
        {
          "output_type": "stream",
          "name": "stdout",
          "text": [
            "https://sololearn.com/uploads/files/one.csv\n",
            "a\n",
            "[1 2]\n"
          ]
        }
      ]
    },
    {
      "cell_type": "markdown",
      "metadata": {
        "id": "3ghyildv_s2-"
      },
      "source": [
        "#######################################################\n",
        "\n",
        "Excercise 2: Bob the Builder\n",
        "\n",
        "Building a Logistic Regression model.\n",
        "\n",
        "Task\n",
        "You are given a feature matrix and a single datapoint to predict. Your job will be to build a Logistic Regression model with the feature matrix and make a prediction (1 or 0) of the single datapoint.\n",
        "\n",
        "Input Format\n",
        "First line: Number of data points in the feature matrix (n)\n",
        "Next n lines: Values of the row in the feature matrix, separated by spaces\n",
        "Next line: Target values separated by spaces\n",
        "Final line: Values (separated by spaces) of a single datapoint without a target value\n",
        "\n",
        "Output Format\n",
        "Either 1 or 0\n",
        "\n",
        "Sample Input\n",
        "6\n",
        "1 3\n",
        "3 5\n",
        "5 7\n",
        "3 1\n",
        "5 3\n",
        "7 5\n",
        "1 1 1 0 0 0\n",
        "2 4\n",
        "\n",
        "Sample Output\n",
        "1"
      ]
    },
    {
      "cell_type": "code",
      "metadata": {
        "colab": {
          "base_uri": "https://localhost:8080/"
        },
        "id": "bW2Yv2h1AAbM",
        "outputId": "10f75c96-052f-4e08-849d-a1bc263f5d74"
      },
      "source": [
        "#Solution :\n",
        "n = int(input())\n",
        "X = []\n",
        "for i in range(n):\n",
        "    X.append([float(x) for x in input().split()])\n",
        "y = [int(x) for x in input().split()]\n",
        "datapoint = [float(x) for x in input().split()]\n",
        "from sklearn.linear_model import LogisticRegression\n",
        "model=LogisticRegression() \n",
        "model.fit(X,y) \n",
        "print(int(model.predict([datapoint]))) "
      ],
      "execution_count": 10,
      "outputs": [
        {
          "output_type": "stream",
          "name": "stdout",
          "text": [
            "6\n",
            "1 3\n",
            "3 5\n",
            "5 7\n",
            "3 1\n",
            "5 3\n",
            "7 5\n",
            "1 1 1 0 0 0 \n",
            "2 4\n",
            "1\n"
          ]
        }
      ]
    },
    {
      "cell_type": "markdown",
      "metadata": {
        "id": "WqeNcRmWBj06"
      },
      "source": [
        "############################################################## \n"
      ]
    }
  ]
}